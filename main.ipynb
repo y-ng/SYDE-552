{
 "cells": [
  {
   "cell_type": "markdown",
   "id": "1d6d82f6",
   "metadata": {},
   "source": [
    "# SYDE 552 Project\n",
    "\n",
    "insert project description here"
   ]
  },
  {
   "cell_type": "code",
   "execution_count": null,
   "id": "33b6e868",
   "metadata": {},
   "outputs": [],
   "source": []
  }
 ],
 "metadata": {
  "kernelspec": {
   "display_name": "Python 3 (ipykernel)",
   "language": "python",
   "name": "python3"
  },
  "language_info": {
   "codemirror_mode": {
    "name": "ipython",
    "version": 3
   },
   "file_extension": ".py",
   "mimetype": "text/x-python",
   "name": "python",
   "nbconvert_exporter": "python",
   "pygments_lexer": "ipython3",
   "version": "3.11.4"
  }
 },
 "nbformat": 4,
 "nbformat_minor": 5
}
